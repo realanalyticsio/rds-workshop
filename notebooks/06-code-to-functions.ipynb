{
 "cells": [
  {
   "cell_type": "markdown",
   "metadata": {},
   "source": [
    "# Turn repeated code into functions"
   ]
  },
  {
   "cell_type": "markdown",
   "metadata": {},
   "source": [
    "Scripts for data cleaning or analysis (or that produce graphs) often include long stretches of code that are hard to read and understand. For example, consider this one and this one, which produce the two figures for this paper. (Those scripts could use some comments, couldn’t they?)\n",
    "\n",
    "Scripts often contain long stretches of repeated code, too. You do the same thing a number of times, by copy-paste-edit.\n",
    "\n",
    "It’s better to break things up into functions.\n",
    "\n",
    "* Pull out the bits of largely repeated code as a more-general function, and replace the repeated bits with simpler function calls.\n",
    "\n",
    "* Pull out long stretches of complicated code as a separate function (or, ideally, multiple simple functions).\n",
    "\n",
    "I’ll often have a file called func.R containing those project-specific functions. (Yeah, brilliantly clear file name, right?)\n",
    "\n",
    "Advantages to this:\n",
    "\n",
    "* The main scripts will be shorter and easier to read, particularly if the functions are well-named.\n",
    "\n",
    "* If parts of the formerly-repeated code need to be changed, you won’t need to change them repeatedly, but just once, in the derived function.\n",
    "\n",
    "* You may be able to reuse the functions for other purposes.\n",
    "\n",
    "Now go to the page about packaging functions for reuse."
   ]
  },
  {
   "cell_type": "code",
   "execution_count": null,
   "metadata": {},
   "outputs": [],
   "source": []
  }
 ],
 "metadata": {
  "kernelspec": {
   "display_name": "Python 3",
   "language": "python",
   "name": "python3"
  },
  "language_info": {
   "codemirror_mode": {
    "name": "ipython",
    "version": 3
   },
   "file_extension": ".py",
   "mimetype": "text/x-python",
   "name": "python",
   "nbconvert_exporter": "python",
   "pygments_lexer": "ipython3",
   "version": "3.6.3"
  }
 },
 "nbformat": 4,
 "nbformat_minor": 2
}
