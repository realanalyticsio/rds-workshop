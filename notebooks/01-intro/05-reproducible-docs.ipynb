{
 "cells": [
  {
   "cell_type": "markdown",
   "metadata": {},
   "source": [
    "# Turn scripts into reproducible reports"
   ]
  },
  {
   "cell_type": "markdown",
   "metadata": {},
   "source": [
    "What we’ve discussed so far is sufficient for a project to be fully reproducible:\n",
    "\n",
    "* Write a script for each step\n",
    "* Organize the data and the scripts\n",
    "* Automate the process with GNU Make\n",
    "\n",
    "But scripts will define what you did and not necessarily why you did it. And it’s better to include the motivation, such as the different figures that you looked at. This is particularly important for the data cleaning process; for example, why did you omit those particular samples?\n",
    "\n",
    "My preference is to replace most of those scripts with reproducible reports (using R Markdown and knitr, or IPython notebooks). Such a report is a mixture of code and text: the code that does the work and your text that describes what you’re doing and why you’re doing it.\n",
    "\n",
    "With either R Markdown/knitr or IPython notebooks, chunks of code will be run and figures created, and a nicely formatted report will be produced. Rather just running a script, you’ll compile the report. Compiling the report will do the work that the script would have done, but will also produce a report that describes the what and the why, with figures and tables that support your decisions.\n",
    "\n",
    "To learn more about knitr and R Markdown, see my knitr in a knutshell tutorial.\n",
    "\n",
    "To learn more about IPython, see the documentation and tutorials at its website.\n",
    "\n",
    "The construction of such reports is definitely more work than writing a simple script, but the product may save you a lot of time and effort down the road. For example, imagine that a reviewer (or coauthor) asks, “Why did you omit those samples?” You won’t be left scratching your head; you’ll have a document that explains why.\n",
    "\n",
    "Now go to the page about turning repeated code into functions."
   ]
  },
  {
   "cell_type": "code",
   "execution_count": null,
   "metadata": {},
   "outputs": [],
   "source": []
  }
 ],
 "metadata": {
  "kernelspec": {
   "display_name": "Python 3",
   "language": "python",
   "name": "python3"
  },
  "language_info": {
   "codemirror_mode": {
    "name": "ipython",
    "version": 3
   },
   "file_extension": ".py",
   "mimetype": "text/x-python",
   "name": "python",
   "nbconvert_exporter": "python",
   "pygments_lexer": "ipython3",
   "version": "3.6.3"
  }
 },
 "nbformat": 4,
 "nbformat_minor": 2
}
