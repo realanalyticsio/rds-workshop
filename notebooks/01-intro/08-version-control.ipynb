{
 "cells": [
  {
   "cell_type": "markdown",
   "metadata": {},
   "source": [
    "# Use version control"
   ]
  },
  {
   "cell_type": "markdown",
   "metadata": {},
   "source": [
    "Version control is not strictly necessary for reproducibility, but it can be hugely useful for sanity (and for managing collaborative projects, and for long-term efficiency).\n",
    "\n",
    "Periodically zipping things up into a numbered and dated file is great, but formal version control:\n",
    "\n",
    "* Can make it easier to explore the history of changes\n",
    "* Enables you to go back to an earlier state to find the source of a bug\n",
    "* Allows you to try things out without worrying about breaking the things that work\n",
    "* Can make it easier to incorporate changes from collaborators, even if you’re all making simultaneous changes to the same set of files.\n",
    "\n",
    "There are a number of different version control systems, but I’d recommend starting with git, because it’s widely used, and because of GitHub, which simplifies collaboration and exploration.\n",
    "\n",
    "To get started, consider my git/github guide.\n",
    "\n",
    "Version control is a tough sell. It requires a big initial investment in time and effort, initial experiences are often rocky, and the advantages are mostly long-term. And it may seem like a big day-to-day hassle, though trust me that, after a month or so, it will become a natural part of your daily workflow.\n",
    "\n",
    "Start by putting a single project under version control. Ideally convince a collaborator to work on it with you. (Version control has huge short-term advantages in collaborative projects, such as in merging simultaneous changes, or just keeping in sync.)\n",
    "\n",
    "Now go to the page about software licenses."
   ]
  },
  {
   "cell_type": "code",
   "execution_count": null,
   "metadata": {},
   "outputs": [],
   "source": []
  }
 ],
 "metadata": {
  "kernelspec": {
   "display_name": "Python 3",
   "language": "python",
   "name": "python3"
  },
  "language_info": {
   "codemirror_mode": {
    "name": "ipython",
    "version": 3
   },
   "file_extension": ".py",
   "mimetype": "text/x-python",
   "name": "python",
   "nbconvert_exporter": "python",
   "pygments_lexer": "ipython3",
   "version": "3.6.3"
  }
 },
 "nbformat": 4,
 "nbformat_minor": 2
}
