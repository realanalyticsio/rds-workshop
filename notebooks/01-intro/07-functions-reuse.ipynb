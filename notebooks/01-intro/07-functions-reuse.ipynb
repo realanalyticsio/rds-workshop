{
 "cells": [
  {
   "cell_type": "markdown",
   "metadata": {},
   "source": [
    "# Package functions for reuse"
   ]
  },
  {
   "cell_type": "markdown",
   "metadata": {},
   "source": [
    "Pulling out the major parts of your scripts as separate functions has the advantage that you can more easily reuse that code.\n",
    "\n",
    "But functions sitting deep within some project directory are not likely to be used again. (“It’s in a file called func.R, but which project was I working on?”)\n",
    "\n",
    "When possible, package up those useful functions as a stand-alone thing. This will make it easier for you (and others) to reuse them. It’s also a good opportunity to document those functions.\n",
    "\n",
    "Writing R packages is really not so hard as one might think. See my R package primer, Hadley Wickham’s R packages book, or Hilary Parker’s tutorial on R packages. If you’ve written a personal R package, you might include your miscellaneous functions there, or write a separate small package specific to your project.\n",
    "\n",
    "If you prefer python to R, this may be even easier for you: a python module is not much more than a file with a bunch of function definitions. Just add some docstrings.\n",
    "\n",
    "Now go to the page about version control."
   ]
  }
 ],
 "metadata": {
  "kernelspec": {
   "display_name": "Python 3",
   "language": "python",
   "name": "python3"
  },
  "language_info": {
   "codemirror_mode": {
    "name": "ipython",
    "version": 3
   },
   "file_extension": ".py",
   "mimetype": "text/x-python",
   "name": "python",
   "nbconvert_exporter": "python",
   "pygments_lexer": "ipython3",
   "version": "3.6.3"
  }
 },
 "nbformat": 4,
 "nbformat_minor": 2
}
